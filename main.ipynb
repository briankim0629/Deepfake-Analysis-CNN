{
 "cells": [
  {
   "cell_type": "code",
   "execution_count": 2,
   "metadata": {
    "colab": {
     "base_uri": "https://localhost:8080/"
    },
    "id": "l7xNh6vs8WZh",
    "outputId": "8560fc96-b9c4-4828-f69f-fe2fd1a07aad"
   },
   "outputs": [],
   "source": [
    "import pandas as pd\n",
    "import glob\n",
    "import tensorflow as tf\n",
    "import cv2\n",
    "import os\n",
    "import numpy as np\n",
    "from tensorflow.keras.preprocessing.image import ImageDataGenerator\n",
    "from tensorflow.keras.preprocessing import image\n",
    "from tensorflow.keras.layers import *\n",
    "import matplotlib.pyplot as plt\n",
    "from tqdm import tqdm\n",
    "import efficientnet.tfkeras as efn\n",
    "import os"
   ]
  },
  {
   "cell_type": "code",
   "execution_count": 6,
   "metadata": {
    "id": "wl0bcPgeF6j4"
   },
   "outputs": [
    {
     "name": "stdout",
     "output_type": "stream",
     "text": [
      "Validation Deepfake count :  5490\n"
     ]
    },
    {
     "name": "stderr",
     "output_type": "stream",
     "text": [
      "C:\\Users\\juiklee\\AppData\\Local\\Temp\\ipykernel_5208\\389304336.py:7: FutureWarning: Setting an item of incompatible dtype is deprecated and will raise in a future error of pandas. Value './data/Dataset/Test/Fake\\fake_10.jpg' has dtype incompatible with int64, please explicitly cast to a compatible dtype first.\n",
      "  df.iloc[cnt,0] = filepath\n"
     ]
    },
    {
     "name": "stdout",
     "output_type": "stream",
     "text": [
      "Validation Real count :  5413\n",
      "Total count :  10903\n",
      "value count :\n",
      "Deepfake\n",
      "0    5490\n",
      "1    5413\n",
      "Name: count, dtype: int64\n"
     ]
    }
   ],
   "source": [
    "#create a dataframe with column \"path and 0 for fake and 1 for real\"\n",
    "df = pd.DataFrame(0,columns = ['paths','Deepfake'], index = range(10903))\n",
    "cnt = 0\n",
    "filepaths = glob.glob(\"./data/Dataset/Test/Fake/*\")\n",
    "print(\"Validation Deepfake count : \" , len(filepaths))\n",
    "for filepath in filepaths:\n",
    "  df.iloc[cnt,0] = filepath\n",
    "  df.iloc[cnt,1] = 0\n",
    "  cnt+=1\n",
    "filepaths = glob.glob(\"./data/Dataset/Test/Real/*\")\n",
    "print(\"Validation Real count : \" , len(filepaths))\n",
    "for filepath in filepaths:\n",
    "  df.iloc[cnt,0] = filepath\n",
    "  df.iloc[cnt,1] = 1\n",
    "  cnt+=1\n",
    "print(\"Total count : \", cnt)\n",
    "print(\"value count :\")\n",
    "print(df['Deepfake'].value_counts())"
   ]
  },
  {
   "cell_type": "code",
   "execution_count": 7,
   "metadata": {},
   "outputs": [
    {
     "name": "stdout",
     "output_type": "stream",
     "text": [
      "                                        paths  Deepfake\n",
      "0        ./data/Dataset/Test/Fake\\fake_10.jpg         0\n",
      "1       ./data/Dataset/Test/Fake\\fake_100.jpg         0\n",
      "2      ./data/Dataset/Test/Fake\\fake_1000.jpg         0\n",
      "3      ./data/Dataset/Test/Fake\\fake_1001.jpg         0\n",
      "4      ./data/Dataset/Test/Fake\\fake_1002.jpg         0\n",
      "...                                       ...       ...\n",
      "10898   ./data/Dataset/Test/Real\\real_995.jpg         1\n",
      "10899   ./data/Dataset/Test/Real\\real_996.jpg         1\n",
      "10900   ./data/Dataset/Test/Real\\real_997.jpg         1\n",
      "10901   ./data/Dataset/Test/Real\\real_998.jpg         1\n",
      "10902   ./data/Dataset/Test/Real\\real_999.jpg         1\n",
      "\n",
      "[10903 rows x 2 columns]\n"
     ]
    }
   ],
   "source": [
    "print(df)"
   ]
  },
  {
   "cell_type": "code",
   "execution_count": 8,
   "metadata": {},
   "outputs": [],
   "source": [
    "from sklearn.model_selection import train_test_split\n",
    "SEED = 42\n",
    "train_df, test_df = train_test_split(df, \n",
    "                                     test_size=0.2, \n",
    "                                     random_state=SEED, \n",
    "                                     stratify=df['Deepfake'])\n",
    "\n",
    "train_df, val_df = train_test_split(train_df,\n",
    "                                    test_size=0.15,\n",
    "                                    random_state=SEED,\n",
    "                                    stratify=train_df['Deepfake'])"
   ]
  },
  {
   "cell_type": "code",
   "execution_count": 9,
   "metadata": {},
   "outputs": [
    {
     "name": "stdout",
     "output_type": "stream",
     "text": [
      "                                       paths  Deepfake\n",
      "9116  ./data/Dataset/Test/Real\\real_4261.jpg         1\n",
      "5428   ./data/Dataset/Test/Fake\\fake_943.jpg         0\n",
      "8789  ./data/Dataset/Test/Real\\real_3968.jpg         1\n",
      "5598  ./data/Dataset/Test/Real\\real_1095.jpg         1\n",
      "6344  ./data/Dataset/Test/Real\\real_1767.jpg         1\n",
      "...                                      ...       ...\n",
      "1797  ./data/Dataset/Test/Fake\\fake_2617.jpg         0\n",
      "3586  ./data/Dataset/Test/Fake\\fake_4227.jpg         0\n",
      "2244  ./data/Dataset/Test/Fake\\fake_3019.jpg         0\n",
      "5305   ./data/Dataset/Test/Fake\\fake_832.jpg         0\n",
      "1547  ./data/Dataset/Test/Fake\\fake_2392.jpg         0\n",
      "\n",
      "[7413 rows x 2 columns]\n"
     ]
    }
   ],
   "source": [
    "print(train_df)"
   ]
  },
  {
   "cell_type": "code",
   "execution_count": 10,
   "metadata": {
    "id": "5bahw9JGjy-t"
   },
   "outputs": [
    {
     "name": "stderr",
     "output_type": "stream",
     "text": [
      "100%|█████████████████████████████████████████████████████████████████████████████| 7413/7413 [00:42<00:00, 172.67it/s]\n",
      "100%|█████████████████████████████████████████████████████████████████████████████| 1309/1309 [00:06<00:00, 199.51it/s]\n",
      "100%|█████████████████████████████████████████████████████████████████████████████| 2181/2181 [00:12<00:00, 180.50it/s]\n"
     ]
    }
   ],
   "source": [
    "IMG_WIDTH = 256\n",
    "IMG_HEIGHT = 256\n",
    "def create_datasets(df, img_width, img_height):\n",
    "    imgs = []\n",
    "    for path in tqdm(df['paths']):\n",
    "        img = cv2.imread(path)\n",
    "        img = cv2.cvtColor(img, cv2.COLOR_BGR2RGB)\n",
    "        img = cv2.resize(img, (img_width, img_height))\n",
    "        imgs.append(img)\n",
    "\n",
    "    imgs = np.array(imgs, dtype='float32')\n",
    "    df = pd.get_dummies(df['Deepfake'])\n",
    "    return imgs, df #imgs = numpy array & #\n",
    "train_imgs, train_df = create_datasets(train_df,IMG_WIDTH,IMG_HEIGHT)\n",
    "val_imgs, val_df = create_datasets(val_df,IMG_WIDTH,IMG_HEIGHT)\n",
    "test_imgs, test_df = create_datasets(test_df,IMG_WIDTH,IMG_HEIGHT)"
   ]
  },
  {
   "cell_type": "code",
   "execution_count": 11,
   "metadata": {
    "id": "ZoRX0P7MuSf2"
   },
   "outputs": [
    {
     "data": {
      "text/plain": [
       "array([[[[0.7490196 , 0.6392157 , 0.5921569 ],\n",
       "         [0.7411765 , 0.6313726 , 0.58431375],\n",
       "         [0.73333335, 0.62352943, 0.5803922 ],\n",
       "         ...,\n",
       "         [0.7882353 , 0.75686276, 0.7137255 ],\n",
       "         [0.78431374, 0.7529412 , 0.7019608 ],\n",
       "         [0.78039217, 0.7490196 , 0.69803923]],\n",
       "\n",
       "        [[0.74509805, 0.63529414, 0.5882353 ],\n",
       "         [0.7372549 , 0.627451  , 0.5803922 ],\n",
       "         [0.7294118 , 0.61960787, 0.5764706 ],\n",
       "         ...,\n",
       "         [0.7921569 , 0.7607843 , 0.7176471 ],\n",
       "         [0.7882353 , 0.75686276, 0.7058824 ],\n",
       "         [0.78431374, 0.7529412 , 0.7019608 ]],\n",
       "\n",
       "        [[0.7411765 , 0.6313726 , 0.58431375],\n",
       "         [0.73333335, 0.62352943, 0.5764706 ],\n",
       "         [0.7254902 , 0.6156863 , 0.57254905],\n",
       "         ...,\n",
       "         [0.8       , 0.76862746, 0.7254902 ],\n",
       "         [0.79607844, 0.7647059 , 0.7137255 ],\n",
       "         [0.79607844, 0.7647059 , 0.7137255 ]],\n",
       "\n",
       "        ...,\n",
       "\n",
       "        [[0.5372549 , 0.627451  , 0.8392157 ],\n",
       "         [0.5294118 , 0.61960787, 0.83137256],\n",
       "         [0.5254902 , 0.6156863 , 0.81960785],\n",
       "         ...,\n",
       "         [0.5137255 , 0.6666667 , 0.8980392 ],\n",
       "         [0.50980395, 0.65882355, 0.9019608 ],\n",
       "         [0.5058824 , 0.65882355, 0.8901961 ]],\n",
       "\n",
       "        [[0.5372549 , 0.627451  , 0.83137256],\n",
       "         [0.5294118 , 0.61960787, 0.8235294 ],\n",
       "         [0.52156866, 0.6117647 , 0.8156863 ],\n",
       "         ...,\n",
       "         [0.5137255 , 0.654902  , 0.88235295],\n",
       "         [0.5019608 , 0.6431373 , 0.8784314 ],\n",
       "         [0.49411765, 0.63529414, 0.8627451 ]],\n",
       "\n",
       "        [[0.5372549 , 0.627451  , 0.83137256],\n",
       "         [0.5294118 , 0.61960787, 0.8235294 ],\n",
       "         [0.52156866, 0.6117647 , 0.8156863 ],\n",
       "         ...,\n",
       "         [0.50980395, 0.6509804 , 0.8784314 ],\n",
       "         [0.49019608, 0.6313726 , 0.85882354],\n",
       "         [0.47843137, 0.61960787, 0.84705883]]],\n",
       "\n",
       "\n",
       "       [[[0.05882353, 0.05882353, 0.05882353],\n",
       "         [0.05882353, 0.05882353, 0.05882353],\n",
       "         [0.05882353, 0.05882353, 0.05882353],\n",
       "         ...,\n",
       "         [0.23529412, 0.28235295, 0.34509805],\n",
       "         [0.32941177, 0.3764706 , 0.4392157 ],\n",
       "         [0.34901962, 0.39607844, 0.45882353]],\n",
       "\n",
       "        [[0.05882353, 0.05882353, 0.05882353],\n",
       "         [0.05882353, 0.05882353, 0.05882353],\n",
       "         [0.05882353, 0.05882353, 0.05882353],\n",
       "         ...,\n",
       "         [0.2509804 , 0.29803923, 0.36078432],\n",
       "         [0.32941177, 0.3764706 , 0.4392157 ],\n",
       "         [0.31764707, 0.3647059 , 0.42745098]],\n",
       "\n",
       "        [[0.05882353, 0.05882353, 0.05882353],\n",
       "         [0.05882353, 0.05882353, 0.05882353],\n",
       "         [0.05882353, 0.05882353, 0.05882353],\n",
       "         ...,\n",
       "         [0.2784314 , 0.3254902 , 0.3882353 ],\n",
       "         [0.3529412 , 0.4       , 0.4627451 ],\n",
       "         [0.3137255 , 0.36078432, 0.42352942]],\n",
       "\n",
       "        ...,\n",
       "\n",
       "        [[0.33333334, 0.42745098, 0.4745098 ],\n",
       "         [0.3254902 , 0.41960785, 0.46666667],\n",
       "         [0.3254902 , 0.41960785, 0.46666667],\n",
       "         ...,\n",
       "         [0.30980393, 0.3882353 , 0.42352942],\n",
       "         [0.3137255 , 0.38431373, 0.42352942],\n",
       "         [0.31764707, 0.3882353 , 0.42745098]],\n",
       "\n",
       "        [[0.3372549 , 0.43137255, 0.47058824],\n",
       "         [0.32941177, 0.42352942, 0.4627451 ],\n",
       "         [0.3254902 , 0.41960785, 0.45882353],\n",
       "         ...,\n",
       "         [0.30588236, 0.38431373, 0.41960785],\n",
       "         [0.3137255 , 0.38431373, 0.42352942],\n",
       "         [0.32156864, 0.39215687, 0.43137255]],\n",
       "\n",
       "        [[0.33333334, 0.42745098, 0.46666667],\n",
       "         [0.3254902 , 0.41960785, 0.45882353],\n",
       "         [0.3254902 , 0.41960785, 0.45882353],\n",
       "         ...,\n",
       "         [0.30588236, 0.38431373, 0.41960785],\n",
       "         [0.31764707, 0.3882353 , 0.42745098],\n",
       "         [0.32941177, 0.4       , 0.4392157 ]]],\n",
       "\n",
       "\n",
       "       [[[0.95686275, 0.88235295, 0.8666667 ],\n",
       "         [0.94509804, 0.8745098 , 0.85882354],\n",
       "         [0.9607843 , 0.8901961 , 0.8901961 ],\n",
       "         ...,\n",
       "         [0.9882353 , 0.9882353 , 0.9882353 ],\n",
       "         [0.9882353 , 0.9882353 , 0.9882353 ],\n",
       "         [0.9882353 , 0.9882353 , 0.9882353 ]],\n",
       "\n",
       "        [[0.9529412 , 0.8784314 , 0.8627451 ],\n",
       "         [0.9490196 , 0.8784314 , 0.8627451 ],\n",
       "         [0.972549  , 0.9019608 , 0.9019608 ],\n",
       "         ...,\n",
       "         [0.9882353 , 0.9882353 , 0.9882353 ],\n",
       "         [0.9882353 , 0.9882353 , 0.9882353 ],\n",
       "         [0.9882353 , 0.9882353 , 0.9882353 ]],\n",
       "\n",
       "        [[0.94509804, 0.87058824, 0.85490197],\n",
       "         [0.9529412 , 0.88235295, 0.8666667 ],\n",
       "         [0.9882353 , 0.91764706, 0.91764706],\n",
       "         ...,\n",
       "         [0.9882353 , 0.9882353 , 0.9882353 ],\n",
       "         [0.9882353 , 0.9882353 , 0.9882353 ],\n",
       "         [0.9882353 , 0.9882353 , 0.9882353 ]],\n",
       "\n",
       "        ...,\n",
       "\n",
       "        [[1.        , 0.972549  , 0.8627451 ],\n",
       "         [0.99607843, 0.9764706 , 0.8627451 ],\n",
       "         [0.99607843, 0.9764706 , 0.8627451 ],\n",
       "         ...,\n",
       "         [0.85882354, 0.6313726 , 0.5764706 ],\n",
       "         [0.9137255 , 0.6666667 , 0.60784316],\n",
       "         [0.9372549 , 0.6784314 , 0.6156863 ]],\n",
       "\n",
       "        [[0.99607843, 0.972549  , 0.87058824],\n",
       "         [0.99607843, 0.972549  , 0.87058824],\n",
       "         [0.99607843, 0.972549  , 0.87058824],\n",
       "         ...,\n",
       "         [0.8509804 , 0.62352943, 0.5686275 ],\n",
       "         [0.9098039 , 0.6627451 , 0.6039216 ],\n",
       "         [0.92941177, 0.6666667 , 0.6039216 ]],\n",
       "\n",
       "        [[0.99607843, 0.972549  , 0.87058824],\n",
       "         [0.99607843, 0.972549  , 0.87058824],\n",
       "         [0.99215686, 0.9764706 , 0.8784314 ],\n",
       "         ...,\n",
       "         [0.8509804 , 0.62352943, 0.5686275 ],\n",
       "         [0.90588236, 0.65882355, 0.6       ],\n",
       "         [0.9254902 , 0.6627451 , 0.6       ]]],\n",
       "\n",
       "\n",
       "       ...,\n",
       "\n",
       "\n",
       "       [[[0.68235296, 0.4627451 , 0.40392157],\n",
       "         [0.6862745 , 0.46666667, 0.40784314],\n",
       "         [0.6666667 , 0.45882353, 0.40392157],\n",
       "         ...,\n",
       "         [0.3019608 , 0.22745098, 0.17254902],\n",
       "         [0.34509805, 0.27058825, 0.21568628],\n",
       "         [0.4       , 0.3254902 , 0.27058825]],\n",
       "\n",
       "        [[0.6627451 , 0.45490196, 0.4       ],\n",
       "         [0.6666667 , 0.45882353, 0.40392157],\n",
       "         [0.6627451 , 0.45490196, 0.4       ],\n",
       "         ...,\n",
       "         [0.3019608 , 0.22745098, 0.17254902],\n",
       "         [0.32941177, 0.25490198, 0.2       ],\n",
       "         [0.3764706 , 0.3019608 , 0.24705882]],\n",
       "\n",
       "        [[0.65882355, 0.45490196, 0.40392157],\n",
       "         [0.64705884, 0.45490196, 0.4       ],\n",
       "         [0.64705884, 0.45490196, 0.4       ],\n",
       "         ...,\n",
       "         [0.30980393, 0.23529412, 0.18039216],\n",
       "         [0.32941177, 0.25490198, 0.2       ],\n",
       "         [0.36078432, 0.28627452, 0.23137255]],\n",
       "\n",
       "        ...,\n",
       "\n",
       "        [[0.73333335, 0.5529412 , 0.4627451 ],\n",
       "         [0.7294118 , 0.54901963, 0.45882353],\n",
       "         [0.73333335, 0.5529412 , 0.45882353],\n",
       "         ...,\n",
       "         [0.8509804 , 0.7137255 , 0.5882353 ],\n",
       "         [0.8666667 , 0.7294118 , 0.6039216 ],\n",
       "         [0.8509804 , 0.7137255 , 0.5882353 ]],\n",
       "\n",
       "        [[0.7254902 , 0.54509807, 0.45490196],\n",
       "         [0.73333335, 0.5529412 , 0.4627451 ],\n",
       "         [0.74509805, 0.5647059 , 0.47058824],\n",
       "         ...,\n",
       "         [0.8509804 , 0.7137255 , 0.5882353 ],\n",
       "         [0.8745098 , 0.7372549 , 0.6117647 ],\n",
       "         [0.8666667 , 0.7294118 , 0.6039216 ]],\n",
       "\n",
       "        [[0.7176471 , 0.5372549 , 0.44705883],\n",
       "         [0.73333335, 0.5529412 , 0.4627451 ],\n",
       "         [0.7529412 , 0.57254905, 0.47843137],\n",
       "         ...,\n",
       "         [0.84705883, 0.70980394, 0.58431375],\n",
       "         [0.88235295, 0.74509805, 0.61960787],\n",
       "         [0.88235295, 0.74509805, 0.61960787]]],\n",
       "\n",
       "\n",
       "       [[[0.14117648, 0.14117648, 0.14117648],\n",
       "         [0.09411765, 0.09411765, 0.09411765],\n",
       "         [0.09411765, 0.09411765, 0.09411765],\n",
       "         ...,\n",
       "         [0.14509805, 0.13725491, 0.14117648],\n",
       "         [0.30588236, 0.29803923, 0.3019608 ],\n",
       "         [0.4       , 0.39215687, 0.39607844]],\n",
       "\n",
       "        [[0.09019608, 0.09019608, 0.09019608],\n",
       "         [0.11764706, 0.11764706, 0.11764706],\n",
       "         [0.11372549, 0.11372549, 0.11372549],\n",
       "         ...,\n",
       "         [0.2       , 0.19215687, 0.19607843],\n",
       "         [0.21176471, 0.20392157, 0.20784314],\n",
       "         [0.24705882, 0.23921569, 0.24313726]],\n",
       "\n",
       "        [[0.07843138, 0.07843138, 0.07843138],\n",
       "         [0.11372549, 0.11372549, 0.11372549],\n",
       "         [0.10980392, 0.10980392, 0.10980392],\n",
       "         ...,\n",
       "         [0.26666668, 0.25882354, 0.2627451 ],\n",
       "         [0.14509805, 0.13725491, 0.14117648],\n",
       "         [0.12156863, 0.11372549, 0.11764706]],\n",
       "\n",
       "        ...,\n",
       "\n",
       "        [[0.63529414, 0.4862745 , 0.44313726],\n",
       "         [0.61960787, 0.47843137, 0.43137255],\n",
       "         [0.627451  , 0.49411765, 0.45490196],\n",
       "         ...,\n",
       "         [1.        , 1.        , 1.        ],\n",
       "         [0.9254902 , 0.9254902 , 0.9254902 ],\n",
       "         [0.7137255 , 0.7137255 , 0.7137255 ]],\n",
       "\n",
       "        [[0.63529414, 0.4862745 , 0.4509804 ],\n",
       "         [0.6156863 , 0.47058824, 0.43529412],\n",
       "         [0.62352943, 0.49019608, 0.45490196],\n",
       "         ...,\n",
       "         [0.9490196 , 0.9490196 , 0.9490196 ],\n",
       "         [0.8235294 , 0.8235294 , 0.8235294 ],\n",
       "         [0.5921569 , 0.5921569 , 0.5921569 ]],\n",
       "\n",
       "        [[0.6431373 , 0.49411765, 0.45882353],\n",
       "         [0.627451  , 0.48235294, 0.44705883],\n",
       "         [0.6392157 , 0.5019608 , 0.47843137],\n",
       "         ...,\n",
       "         [0.88235295, 0.88235295, 0.88235295],\n",
       "         [0.7254902 , 0.7254902 , 0.7254902 ],\n",
       "         [0.47843137, 0.47843137, 0.47843137]]],\n",
       "\n",
       "\n",
       "       [[[0.23529412, 0.23529412, 0.23529412],\n",
       "         [0.11764706, 0.11764706, 0.11764706],\n",
       "         [0.        , 0.        , 0.        ],\n",
       "         ...,\n",
       "         [0.12156863, 0.12156863, 0.12156863],\n",
       "         [0.12156863, 0.12156863, 0.12156863],\n",
       "         [0.16470589, 0.16470589, 0.16470589]],\n",
       "\n",
       "        [[0.07450981, 0.07450981, 0.07450981],\n",
       "         [0.0627451 , 0.0627451 , 0.0627451 ],\n",
       "         [0.06666667, 0.06666667, 0.06666667],\n",
       "         ...,\n",
       "         [0.06666667, 0.06666667, 0.06666667],\n",
       "         [0.07058824, 0.07058824, 0.07058824],\n",
       "         [0.08235294, 0.08235294, 0.08235294]],\n",
       "\n",
       "        [[0.14117648, 0.14117648, 0.14117648],\n",
       "         [0.11372549, 0.11372549, 0.11372549],\n",
       "         [0.08627451, 0.08627451, 0.08627451],\n",
       "         ...,\n",
       "         [0.08235294, 0.08235294, 0.08235294],\n",
       "         [0.09803922, 0.09803922, 0.09803922],\n",
       "         [0.08235294, 0.08235294, 0.08235294]],\n",
       "\n",
       "        ...,\n",
       "\n",
       "        [[0.9019608 , 0.9019608 , 0.9019608 ],\n",
       "         [0.77254903, 0.77254903, 0.77254903],\n",
       "         [0.7764706 , 0.7764706 , 0.7764706 ],\n",
       "         ...,\n",
       "         [0.13725491, 0.13725491, 0.13725491],\n",
       "         [0.15686275, 0.15686275, 0.15686275],\n",
       "         [0.19215687, 0.19215687, 0.19215687]],\n",
       "\n",
       "        [[0.84705883, 0.84705883, 0.84705883],\n",
       "         [0.7254902 , 0.7254902 , 0.7254902 ],\n",
       "         [0.7607843 , 0.7607843 , 0.7607843 ],\n",
       "         ...,\n",
       "         [0.23137255, 0.23137255, 0.23137255],\n",
       "         [0.17254902, 0.17254902, 0.17254902],\n",
       "         [0.0627451 , 0.0627451 , 0.0627451 ]],\n",
       "\n",
       "        [[0.8       , 0.8       , 0.8       ],\n",
       "         [0.7882353 , 0.7882353 , 0.7882353 ],\n",
       "         [0.84705883, 0.84705883, 0.84705883],\n",
       "         ...,\n",
       "         [0.1254902 , 0.1254902 , 0.1254902 ],\n",
       "         [0.13333334, 0.13333334, 0.13333334],\n",
       "         [0.14117648, 0.14117648, 0.14117648]]]], dtype=float32)"
      ]
     },
     "execution_count": 11,
     "metadata": {},
     "output_type": "execute_result"
    }
   ],
   "source": [
    "train_imgs/=255.0\n",
    "val_imgs/=255.0\n",
    "test_imgs/255.0"
   ]
  },
  {
   "cell_type": "code",
   "execution_count": 12,
   "metadata": {
    "id": "edHg0JmWu_EZ"
   },
   "outputs": [
    {
     "name": "stdout",
     "output_type": "stream",
     "text": [
      "          0      1\n",
      "9116  False   True\n",
      "5428   True  False\n",
      "8789  False   True\n",
      "5598  False   True\n",
      "6344  False   True\n"
     ]
    }
   ],
   "source": [
    "print(train_df.head())"
   ]
  },
  {
   "cell_type": "code",
   "execution_count": 13,
   "metadata": {
    "id": "N3mK109qmjsX",
    "scrolled": true
   },
   "outputs": [
    {
     "name": "stdout",
     "output_type": "stream",
     "text": [
      "Model: \"model\"\n",
      "_________________________________________________________________\n",
      " Layer (type)                Output Shape              Param #   \n",
      "=================================================================\n",
      " input_1 (InputLayer)        [(None, 256, 256, 3)]     0         \n",
      "                                                                 \n",
      " efficientnet-b7 (Functiona  (None, 8, 8, 2560)        64097680  \n",
      " l)                                                              \n",
      "                                                                 \n",
      " global_average_pooling2d (  (None, 2560)              0         \n",
      " GlobalAveragePooling2D)                                         \n",
      "                                                                 \n",
      " dense (Dense)               (None, 2)                 5122      \n",
      "                                                                 \n",
      "=================================================================\n",
      "Total params: 64102802 (244.53 MB)\n",
      "Trainable params: 63792082 (243.35 MB)\n",
      "Non-trainable params: 310720 (1.19 MB)\n",
      "_________________________________________________________________\n"
     ]
    }
   ],
   "source": [
    "def build_model(img_height, img_width, n):\n",
    "    inp = Input(shape=(img_height,img_width,n))\n",
    "    efnet = efn.EfficientNetB7(\n",
    "        input_shape=(img_height,img_width,n),\n",
    "        weights='imagenet',\n",
    "        include_top=False\n",
    "    )\n",
    "    x = efnet(inp)\n",
    "    x = GlobalAveragePooling2D()(x)\n",
    "    x = Dense(2, activation='softmax')(x)\n",
    "    model = tf.keras.Model(inputs=inp, outputs=x)\n",
    "    opt = tf.keras.optimizers.Adam(learning_rate=0.000003)\n",
    "    loss = tf.keras.losses.CategoricalCrossentropy(label_smoothing=0.01)\n",
    "    model.compile(optimizer=opt, loss=loss, metrics=['accuracy']) \n",
    "    return model\n",
    "\n",
    "model = build_model(IMG_HEIGHT, IMG_WIDTH, 3)\n",
    "model.summary()"
   ]
  },
  {
   "cell_type": "code",
   "execution_count": 14,
   "metadata": {
    "id": "D9TXr7E_y2dh"
   },
   "outputs": [],
   "source": [
    "generator = ImageDataGenerator(horizontal_flip=True,\n",
    "                               height_shift_range=0.1,\n",
    "                               fill_mode='reflect')\n",
    "\n",
    "es_callback = tf.keras.callbacks.EarlyStopping(patience=20,\n",
    "                                               verbose=1,\n",
    "                                               restore_best_weights=True)\n",
    "reduce_lr = tf.keras.callbacks.ReduceLROnPlateau(factor=0.1, patience=10, verbose=1)"
   ]
  },
  {
   "cell_type": "code",
   "execution_count": 15,
   "metadata": {
    "id": "GuNusEsrNf9M"
   },
   "outputs": [
    {
     "name": "stdout",
     "output_type": "stream",
     "text": [
      "115/115 [==============================] - 20879s 180s/step - loss: 0.6823 - accuracy: 0.5601 - val_loss: 0.6685 - val_accuracy: 0.5837 - lr: 3.0000e-06\n"
     ]
    }
   ],
   "source": [
    "BATCH_SIZE = 64\n",
    "history = model.fit(generator.flow(train_imgs,\n",
    "                                   train_df,\n",
    "                                   batch_size=BATCH_SIZE),\n",
    "                    epochs=1,\n",
    "                    steps_per_epoch=len(train_imgs)/BATCH_SIZE,\n",
    "                    callbacks=[es_callback, reduce_lr],\n",
    "                    validation_data=(val_imgs, val_df))"
   ]
  },
  {
   "cell_type": "code",
   "execution_count": 16,
   "metadata": {
    "id": "qaZVLzXFOl8I"
   },
   "outputs": [
    {
     "data": {
      "image/png": "[encoded data removed]",
      "text/plain": [
       "<Figure size 640x480 with 1 Axes>"
      ]
     },
     "metadata": {},
     "output_type": "display_data"
    },
    {
     "data": {
      "image/png": "[encoded data removed]",
      "text/plain": [
       "<Figure size 640x480 with 1 Axes>"
      ]
     },
     "metadata": {},
     "output_type": "display_data"
    }
   ],
   "source": [
    "pd.DataFrame(history.history)[['accuracy', 'val_accuracy']].plot()\n",
    "pd.DataFrame(history.history)[['loss', 'val_loss']].plot()\n",
    "plt.show()"
   ]
  },
  {
   "cell_type": "code",
   "execution_count": 17,
   "metadata": {
    "id": "mAn8X_3guKWP"
   },
   "outputs": [
    {
     "name": "stderr",
     "output_type": "stream",
     "text": [
      "C:\\Users\\juiklee\\anaconda3\\envs\\project\\lib\\site-packages\\keras\\src\\engine\\training.py:3079: UserWarning: You are saving your model as an HDF5 file via `model.save()`. This file format is considered legacy. We recommend using instead the native Keras format, e.g. `model.save('my_model.keras')`.\n",
      "  saving_api.save_model(\n"
     ]
    },
    {
     "name": "stdout",
     "output_type": "stream",
     "text": [
      "모델이 저장되었습니다.\n"
     ]
    },
    {
     "data": {
      "image/png": "[encoded data removed]",
      "text/plain": [
       "<Figure size 640x480 with 1 Axes>"
      ]
     },
     "metadata": {},
     "output_type": "display_data"
    },
    {
     "data": {
      "image/png": "[encoded data removed]",
      "text/plain": [
       "<Figure size 640x480 with 1 Axes>"
      ]
     },
     "metadata": {},
     "output_type": "display_data"
    }
   ],
   "source": [
    "model.save('trained_model.h5')\n",
    "print(\"모델이 저장되었습니다.\")\n",
    "\n",
    "# 훈련 결과 시각화\n",
    "pd.DataFrame(history.history)[['accuracy', 'val_accuracy']].plot()\n",
    "plt.title('Accuracy')\n",
    "plt.xlabel('Epoch')\n",
    "plt.ylabel('Accuracy')\n",
    "plt.show()\n",
    "\n",
    "pd.DataFrame(history.history)[['loss', 'val_loss']].plot()\n",
    "plt.title('Loss')\n",
    "plt.xlabel('Epoch')\n",
    "plt.ylabel('Loss')\n",
    "plt.show()"
   ]
  },
  {
   "cell_type": "code",
   "execution_count": 18,
   "metadata": {
    "id": "dCUBlmmzvH7Y"
   },
   "outputs": [
    {
     "name": "stdout",
     "output_type": "stream",
     "text": [
      "69/69 [==============================] - 400s 6s/step\n"
     ]
    },
    {
     "data": {
      "image/png": "[encoded data removed]",
      "text/plain": [
       "<Figure size 1000x800 with 2 Axes>"
      ]
     },
     "metadata": {},
     "output_type": "display_data"
    }
   ],
   "source": [
    "from sklearn.metrics import confusion_matrix\n",
    "import numpy as np\n",
    "import matplotlib.pyplot as plt\n",
    "import seaborn as sns\n",
    "\n",
    "\n",
    "label_names = [\"Deepfake\",\"Real\"]\n",
    "\n",
    "predictions = model.predict(test_imgs)\n",
    "predicted_labels = np.argmax(predictions, axis=1)  # Convert probabilities to class labels\n",
    "\n",
    "true_labels = np.argmax(test_df.values, axis=1)  # Convert one-hot encoded labels to class labels\n",
    "\n",
    "# Compute the confusion matrix\n",
    "cm = confusion_matrix(true_labels, predicted_labels)\n",
    "\n",
    "# Visualize\n",
    "plt.figure(figsize=(10, 8))\n",
    "sns.heatmap(cm, annot=True, fmt='d', cmap='Blues',\n",
    "            xticklabels=label_names, yticklabels=label_names)\n",
    "plt.xlabel('Predicted')\n",
    "plt.ylabel('True')\n",
    "plt.title('Confusion Matrix')\n",
    "plt.show()"
   ]
  },
  {
   "cell_type": "code",
   "execution_count": null,
   "metadata": {},
   "outputs": [],
   "source": []
  }
 ],
 "metadata": {
  "colab": {
   "provenance": []
  },
  "kernelspec": {
   "display_name": "Python 3 (ipykernel)",
   "language": "python",
   "name": "python3"
  },
  "language_info": {
   "codemirror_mode": {
    "name": "ipython",
    "version": 3
   },
   "file_extension": ".py",
   "mimetype": "text/x-python",
   "name": "python",
   "nbconvert_exporter": "python",
   "pygments_lexer": "ipython3",
   "version": "3.9.18"
  }
 },
 "nbformat": 4,
 "nbformat_minor": 1
}
